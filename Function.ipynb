{
 "cells": [
  {
   "cell_type": "code",
   "execution_count": 1,
   "id": "b09a6b4b-b9d0-4f49-b50b-273b0bd97b73",
   "metadata": {},
   "outputs": [],
   "source": [
    "def sum(a,b):\n",
    "    return a+b\n"
   ]
  },
  {
   "cell_type": "code",
   "execution_count": 2,
   "id": "fc0ad161-cebc-4173-b23e-ab59d9fd1641",
   "metadata": {},
   "outputs": [
    {
     "data": {
      "text/plain": [
       "30"
      ]
     },
     "execution_count": 2,
     "metadata": {},
     "output_type": "execute_result"
    }
   ],
   "source": [
    "sum(10,20)"
   ]
  },
  {
   "cell_type": "code",
   "execution_count": 4,
   "id": "0db87d7a-f9f9-4b55-b38b-81ba1ca03894",
   "metadata": {},
   "outputs": [],
   "source": [
    "def substract(a,b):\n",
    "    return a-b"
   ]
  },
  {
   "cell_type": "code",
   "execution_count": 5,
   "id": "57d5be02-109e-4531-b1c1-e27f682c89b8",
   "metadata": {},
   "outputs": [
    {
     "data": {
      "text/plain": [
       "10"
      ]
     },
     "execution_count": 5,
     "metadata": {},
     "output_type": "execute_result"
    }
   ],
   "source": [
    "substract(20,10)"
   ]
  },
  {
   "cell_type": "code",
   "execution_count": 6,
   "id": "e8750e2c-3afa-4b72-86e4-b4b236de37f5",
   "metadata": {},
   "outputs": [],
   "source": [
    "def muliplication(a,b):\n",
    "    return a*b"
   ]
  },
  {
   "cell_type": "code",
   "execution_count": 8,
   "id": "b4c1dbe5-f6cc-4562-893a-01b8eaf7f58d",
   "metadata": {},
   "outputs": [
    {
     "data": {
      "text/plain": [
       "10"
      ]
     },
     "execution_count": 8,
     "metadata": {},
     "output_type": "execute_result"
    }
   ],
   "source": [
    "muliplication(2,5)"
   ]
  },
  {
   "cell_type": "code",
   "execution_count": 11,
   "id": "acbabece-8e65-4369-bfda-c2e07b081185",
   "metadata": {},
   "outputs": [],
   "source": [
    "def cube(a):\n",
    "      return a ** 3"
   ]
  },
  {
   "cell_type": "code",
   "execution_count": 12,
   "id": "9d7a1875-b9b2-4b48-ae09-b6b2f54e5ea3",
   "metadata": {},
   "outputs": [
    {
     "data": {
      "text/plain": [
       "8"
      ]
     },
     "execution_count": 12,
     "metadata": {},
     "output_type": "execute_result"
    }
   ],
   "source": [
    "cube(2)"
   ]
  },
  {
   "cell_type": "code",
   "execution_count": 13,
   "id": "16b5326d-54a4-461c-b273-a8c4a442fde5",
   "metadata": {},
   "outputs": [],
   "source": [
    "def square(a):\n",
    "    return a ** 2"
   ]
  },
  {
   "cell_type": "code",
   "execution_count": 14,
   "id": "6dafc5ea-dd7d-4e52-86d5-b263721cba6c",
   "metadata": {},
   "outputs": [
    {
     "data": {
      "text/plain": [
       "4"
      ]
     },
     "execution_count": 14,
     "metadata": {},
     "output_type": "execute_result"
    }
   ],
   "source": [
    "square(2)"
   ]
  },
  {
   "cell_type": "code",
   "execution_count": null,
   "id": "621bc265-471a-4c7c-bd53-ce79d3c7e1df",
   "metadata": {},
   "outputs": [],
   "source": []
  }
 ],
 "metadata": {
  "kernelspec": {
   "display_name": "Python 3 (ipykernel)",
   "language": "python",
   "name": "python3"
  },
  "language_info": {
   "codemirror_mode": {
    "name": "ipython",
    "version": 3
   },
   "file_extension": ".py",
   "mimetype": "text/x-python",
   "name": "python",
   "nbconvert_exporter": "python",
   "pygments_lexer": "ipython3",
   "version": "3.12.7"
  }
 },
 "nbformat": 4,
 "nbformat_minor": 5
}
