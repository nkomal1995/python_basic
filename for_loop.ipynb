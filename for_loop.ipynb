{
 "cells": [
  {
   "cell_type": "code",
   "execution_count": 1,
   "id": "fbdc173e-b1d9-4626-ba53-172491b01146",
   "metadata": {},
   "outputs": [],
   "source": [
    "l=[10,20,30,40]"
   ]
  },
  {
   "cell_type": "code",
   "execution_count": 2,
   "id": "f0a6617a-2251-49a6-baab-07e7a9fcab63",
   "metadata": {},
   "outputs": [
    {
     "data": {
      "text/plain": [
       "list"
      ]
     },
     "execution_count": 2,
     "metadata": {},
     "output_type": "execute_result"
    }
   ],
   "source": [
    "type(l)"
   ]
  },
  {
   "cell_type": "code",
   "execution_count": 3,
   "id": "6584d7c0-7c2b-4fb9-b441-dfab2fd6ff02",
   "metadata": {},
   "outputs": [
    {
     "name": "stdout",
     "output_type": "stream",
     "text": [
      "10\n",
      "20\n",
      "30\n",
      "40\n"
     ]
    }
   ],
   "source": [
    "for i in l:\n",
    "    print(i)"
   ]
  },
  {
   "cell_type": "code",
   "execution_count": 4,
   "id": "05add714-9ac4-4d31-a88a-41098dfedeb9",
   "metadata": {},
   "outputs": [
    {
     "name": "stdout",
     "output_type": "stream",
     "text": [
      "Welcome\n",
      "Welcome\n",
      "Welcome\n",
      "Welcome\n"
     ]
    }
   ],
   "source": [
    "for i in l:\n",
    "    print(\"Welcome\")"
   ]
  },
  {
   "cell_type": "code",
   "execution_count": 5,
   "id": "c09dfd42-608b-4c82-9b7a-c7f5c4e0856e",
   "metadata": {},
   "outputs": [
    {
     "data": {
      "text/plain": [
       "range(0, 5)"
      ]
     },
     "execution_count": 5,
     "metadata": {},
     "output_type": "execute_result"
    }
   ],
   "source": [
    "range(5)"
   ]
  },
  {
   "cell_type": "code",
   "execution_count": 6,
   "id": "eeb7125d-f6a0-4cb3-a4bc-4cb50f72c6f4",
   "metadata": {},
   "outputs": [
    {
     "name": "stdout",
     "output_type": "stream",
     "text": [
      "0\n",
      "1\n",
      "2\n",
      "3\n",
      "4\n"
     ]
    }
   ],
   "source": [
    "for i in range(5):\n",
    "    print(i)"
   ]
  },
  {
   "cell_type": "code",
   "execution_count": 7,
   "id": "fde4d916-04c1-4209-b22b-aed60eeed781",
   "metadata": {},
   "outputs": [
    {
     "name": "stdout",
     "output_type": "stream",
     "text": [
      "1\n",
      "2\n",
      "3\n",
      "4\n",
      "5\n",
      "6\n",
      "7\n",
      "8\n",
      "9\n",
      "10\n",
      "11\n"
     ]
    }
   ],
   "source": [
    "for i in range(1,12):\n",
    "    print(i)"
   ]
  },
  {
   "cell_type": "code",
   "execution_count": 8,
   "id": "4788647e-d833-4017-9724-a95f500dad2a",
   "metadata": {},
   "outputs": [
    {
     "name": "stdout",
     "output_type": "stream",
     "text": [
      "1\n",
      "3\n",
      "5\n",
      "7\n",
      "9\n"
     ]
    }
   ],
   "source": [
    "for i in range(1,10,2):\n",
    "    print(i)\n"
   ]
  },
  {
   "cell_type": "code",
   "execution_count": 9,
   "id": "d8e1f99e-88c2-4857-a238-217de2c90250",
   "metadata": {},
   "outputs": [
    {
     "name": "stdout",
     "output_type": "stream",
     "text": [
      "2\n",
      "4\n",
      "6\n",
      "8\n"
     ]
    }
   ],
   "source": [
    "for i in range(2,10,2):\n",
    "    print(i)"
   ]
  },
  {
   "cell_type": "code",
   "execution_count": 10,
   "id": "39b63f65-9f63-462d-905a-9f023636bfe1",
   "metadata": {},
   "outputs": [
    {
     "name": "stdout",
     "output_type": "stream",
     "text": [
      "@\n",
      "@@\n",
      "@@@\n",
      "@@@@\n"
     ]
    }
   ],
   "source": [
    "for i in range(1,5):\n",
    "    print('@' * i)"
   ]
  },
  {
   "cell_type": "code",
   "execution_count": 12,
   "id": "329af35b-9582-4738-8195-db39a09970df",
   "metadata": {},
   "outputs": [
    {
     "name": "stdout",
     "output_type": "stream",
     "text": [
      "5\n",
      "4\n",
      "3\n",
      "2\n",
      "1\n"
     ]
    }
   ],
   "source": [
    "for i in range(5,0,-1):\n",
    "    print(i)"
   ]
  },
  {
   "cell_type": "code",
   "execution_count": 16,
   "id": "71004d5e-06ea-46ee-adf3-ffe1c1d2e6a4",
   "metadata": {},
   "outputs": [
    {
     "name": "stdout",
     "output_type": "stream",
     "text": [
      "@@@@@\n",
      "@@@@\n",
      "@@@\n",
      "@@\n",
      "@\n"
     ]
    }
   ],
   "source": [
    "for i in range(5,0,-1):\n",
    "    print('@' *i)"
   ]
  },
  {
   "cell_type": "code",
   "execution_count": 17,
   "id": "234185b2-b88a-440c-88e3-85afc0470d59",
   "metadata": {},
   "outputs": [
    {
     "name": "stdout",
     "output_type": "stream",
     "text": [
      "hello\n",
      "hello\n",
      "hello\n",
      "hello\n",
      "hello\n"
     ]
    }
   ],
   "source": [
    "for i in range(5):\n",
    "    print('hello')"
   ]
  },
  {
   "cell_type": "code",
   "execution_count": 18,
   "id": "e57795b0-5305-4f19-b779-cf271ca2ef0e",
   "metadata": {},
   "outputs": [
    {
     "name": "stdout",
     "output_type": "stream",
     "text": [
      "hello\n",
      "hello\n",
      "hello\n",
      "hello\n",
      "hello\n",
      "hello\n",
      "hello\n"
     ]
    }
   ],
   "source": [
    "for i in 'Welcome':\n",
    "    print('hello')"
   ]
  },
  {
   "cell_type": "code",
   "execution_count": 19,
   "id": "4a43a170-9890-43d0-a546-0b00265d88ae",
   "metadata": {},
   "outputs": [],
   "source": [
    "l=[10,20,30,[1,2,3,5],40,50]"
   ]
  },
  {
   "cell_type": "code",
   "execution_count": 20,
   "id": "82e80fa3-89a8-4824-a1fc-e0dc80c864cd",
   "metadata": {},
   "outputs": [
    {
     "data": {
      "text/plain": [
       "list"
      ]
     },
     "execution_count": 20,
     "metadata": {},
     "output_type": "execute_result"
    }
   ],
   "source": [
    "type(l)"
   ]
  },
  {
   "cell_type": "code",
   "execution_count": 21,
   "id": "92d13175-d2fc-4b73-8c21-f4a7b5bcdcd0",
   "metadata": {},
   "outputs": [
    {
     "name": "stdout",
     "output_type": "stream",
     "text": [
      "10\n",
      "20\n",
      "30\n",
      "[1, 2, 3, 5]\n",
      "40\n",
      "50\n"
     ]
    }
   ],
   "source": [
    "for i in l:\n",
    "    print(i)"
   ]
  },
  {
   "cell_type": "code",
   "execution_count": 30,
   "id": "ad11b5b4-cc4a-4b83-a74f-1804edba33d1",
   "metadata": {},
   "outputs": [
    {
     "name": "stdout",
     "output_type": "stream",
     "text": [
      "1\n",
      "2\n",
      "3\n",
      "5\n"
     ]
    }
   ],
   "source": [
    "for i in l:\n",
    "     if  type(i)==list:\n",
    "         for num in i:\n",
    "             print(num)\n",
    "         "
   ]
  },
  {
   "cell_type": "code",
   "execution_count": 31,
   "id": "553bb7d7-fe7d-42cb-88a8-db0613e96ee1",
   "metadata": {},
   "outputs": [],
   "source": [
    "mix_list=[(1,2,3),{45,67,8},[2,4,6]]"
   ]
  },
  {
   "cell_type": "code",
   "execution_count": 32,
   "id": "a7f0858a-9e7e-49c2-98dd-30bfc111cde1",
   "metadata": {},
   "outputs": [
    {
     "name": "stdout",
     "output_type": "stream",
     "text": [
      "{8, 67, 45}\n"
     ]
    }
   ],
   "source": [
    "for i in mix_list:\n",
    "    if type(i)==set:\n",
    "        print(i)"
   ]
  },
  {
   "cell_type": "code",
   "execution_count": 33,
   "id": "dd89135e-24da-40c2-9c97-4dd7cbd8bd13",
   "metadata": {},
   "outputs": [
    {
     "name": "stdout",
     "output_type": "stream",
     "text": [
      "[2, 4, 6]\n"
     ]
    }
   ],
   "source": [
    "for i in mix_list:\n",
    "    if type(i)== list:\n",
    "        print(i)"
   ]
  },
  {
   "cell_type": "code",
   "execution_count": 34,
   "id": "d8cc381f-50f4-4870-ac50-795d765b7287",
   "metadata": {},
   "outputs": [
    {
     "name": "stdout",
     "output_type": "stream",
     "text": [
      "(1, 2, 3)\n"
     ]
    }
   ],
   "source": [
    "for i in mix_list:\n",
    "    if type(i)==tuple:\n",
    "        print(i)"
   ]
  },
  {
   "cell_type": "code",
   "execution_count": 36,
   "id": "cb1571f2-5361-4a4c-ac61-f7fe2570030c",
   "metadata": {},
   "outputs": [
    {
     "name": "stdout",
     "output_type": "stream",
     "text": [
      "1\n",
      "2\n",
      "3\n"
     ]
    }
   ],
   "source": [
    "for i in mix_list:\n",
    "    if type(i)==tuple:\n",
    "     for num in i:\n",
    "         print(num)"
   ]
  },
  {
   "cell_type": "code",
   "execution_count": null,
   "id": "99e9c42d-82a0-452f-a4c3-88f207652353",
   "metadata": {},
   "outputs": [],
   "source": []
  }
 ],
 "metadata": {
  "kernelspec": {
   "display_name": "Python 3 (ipykernel)",
   "language": "python",
   "name": "python3"
  },
  "language_info": {
   "codemirror_mode": {
    "name": "ipython",
    "version": 3
   },
   "file_extension": ".py",
   "mimetype": "text/x-python",
   "name": "python",
   "nbconvert_exporter": "python",
   "pygments_lexer": "ipython3",
   "version": "3.12.7"
  }
 },
 "nbformat": 4,
 "nbformat_minor": 5
}
