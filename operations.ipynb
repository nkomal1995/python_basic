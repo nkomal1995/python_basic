{
 "cells": [
  {
   "cell_type": "code",
   "execution_count": 1,
   "id": "2941cb6e-5edf-4aa7-911a-45794ac9524f",
   "metadata": {},
   "outputs": [
    {
     "data": {
      "text/plain": [
       "5"
      ]
     },
     "execution_count": 1,
     "metadata": {},
     "output_type": "execute_result"
    }
   ],
   "source": [
    "3 + 2"
   ]
  },
  {
   "cell_type": "code",
   "execution_count": 2,
   "id": "c5dde382-70ff-4830-ba71-7567cd740f70",
   "metadata": {},
   "outputs": [
    {
     "data": {
      "text/plain": [
       "12"
      ]
     },
     "execution_count": 2,
     "metadata": {},
     "output_type": "execute_result"
    }
   ],
   "source": [
    "4 * 3"
   ]
  },
  {
   "cell_type": "code",
   "execution_count": 3,
   "id": "997b8bb3-871c-40b6-8cba-b38af6bd4594",
   "metadata": {},
   "outputs": [
    {
     "data": {
      "text/plain": [
       "6.5"
      ]
     },
     "execution_count": 3,
     "metadata": {},
     "output_type": "execute_result"
    }
   ],
   "source": [
    "5 + 1.5"
   ]
  },
  {
   "cell_type": "code",
   "execution_count": 4,
   "id": "b8b95516-6df9-4d21-adbf-c8529a1a8d11",
   "metadata": {},
   "outputs": [
    {
     "data": {
      "text/plain": [
       "6"
      ]
     },
     "execution_count": 4,
     "metadata": {},
     "output_type": "execute_result"
    }
   ],
   "source": [
    "6 "
   ]
  },
  {
   "cell_type": "code",
   "execution_count": 5,
   "id": "5148c717-b9e1-4d73-a61c-7047bb4a2921",
   "metadata": {},
   "outputs": [
    {
     "ename": "TypeError",
     "evalue": "unsupported operand type(s) for +: 'int' and 'str'",
     "output_type": "error",
     "traceback": [
      "\u001b[1;31m---------------------------------------------------------------------------\u001b[0m",
      "\u001b[1;31mTypeError\u001b[0m                                 Traceback (most recent call last)",
      "Cell \u001b[1;32mIn[5], line 1\u001b[0m\n\u001b[1;32m----> 1\u001b[0m \u001b[38;5;241m6\u001b[39m\u001b[38;5;241m+\u001b[39m \u001b[38;5;124m'\u001b[39m\u001b[38;5;124mhello\u001b[39m\u001b[38;5;124m'\u001b[39m\n",
      "\u001b[1;31mTypeError\u001b[0m: unsupported operand type(s) for +: 'int' and 'str'"
     ]
    }
   ],
   "source": [
    "6+ 'hello'"
   ]
  },
  {
   "cell_type": "code",
   "execution_count": 6,
   "id": "01deb6de-6e5a-444c-b662-39279937cd42",
   "metadata": {},
   "outputs": [
    {
     "data": {
      "text/plain": [
       "'hellopyton'"
      ]
     },
     "execution_count": 6,
     "metadata": {},
     "output_type": "execute_result"
    }
   ],
   "source": [
    "'hello' + 'pyton'"
   ]
  },
  {
   "cell_type": "code",
   "execution_count": 7,
   "id": "6bd130a6-3e54-4f97-a901-3f8e204774d7",
   "metadata": {},
   "outputs": [
    {
     "data": {
      "text/plain": [
       "'WelcomeWelcomeWelcome'"
      ]
     },
     "execution_count": 7,
     "metadata": {},
     "output_type": "execute_result"
    }
   ],
   "source": [
    "'Welcome' * 3"
   ]
  },
  {
   "cell_type": "code",
   "execution_count": 8,
   "id": "84160286-4161-4be5-b85f-99ef88eb1993",
   "metadata": {},
   "outputs": [
    {
     "data": {
      "text/plain": [
       "'welcome komal'"
      ]
     },
     "execution_count": 8,
     "metadata": {},
     "output_type": "execute_result"
    }
   ],
   "source": [
    "'welcome' +' '+ 'komal'"
   ]
  },
  {
   "cell_type": "code",
   "execution_count": 9,
   "id": "0f8e1066-869f-4aa9-be16-69539bfe4424",
   "metadata": {},
   "outputs": [],
   "source": [
    "a=10\n",
    "b=5\n",
    "c= a+b"
   ]
  },
  {
   "cell_type": "code",
   "execution_count": 10,
   "id": "239503d1-e326-47b3-8318-8235a3faeadc",
   "metadata": {},
   "outputs": [
    {
     "data": {
      "text/plain": [
       "15"
      ]
     },
     "execution_count": 10,
     "metadata": {},
     "output_type": "execute_result"
    }
   ],
   "source": [
    "c"
   ]
  },
  {
   "cell_type": "markdown",
   "id": "0bbbd2ba-041a-43d7-a527-50f6d065d023",
   "metadata": {},
   "source": [
    "Input From User"
   ]
  },
  {
   "cell_type": "code",
   "execution_count": 11,
   "id": "484c72dc-8d3d-43bc-be50-d1a005f66010",
   "metadata": {},
   "outputs": [
    {
     "name": "stdin",
     "output_type": "stream",
     "text": [
      "Enter Your Good Name: komal\n"
     ]
    }
   ],
   "source": [
    "name= input('Enter Your Good Name:')"
   ]
  },
  {
   "cell_type": "code",
   "execution_count": 12,
   "id": "8e00680c-1218-4753-8dc8-364b665226dd",
   "metadata": {},
   "outputs": [
    {
     "data": {
      "text/plain": [
       "'komal'"
      ]
     },
     "execution_count": 12,
     "metadata": {},
     "output_type": "execute_result"
    }
   ],
   "source": [
    "name"
   ]
  },
  {
   "cell_type": "code",
   "execution_count": 13,
   "id": "9da0ece2-8708-4a55-b076-8ccbfe8cf315",
   "metadata": {},
   "outputs": [],
   "source": [
    "x= 'My name is:'+ name"
   ]
  },
  {
   "cell_type": "code",
   "execution_count": 14,
   "id": "cc42f408-7b0b-4981-b616-e323ef552c10",
   "metadata": {},
   "outputs": [
    {
     "data": {
      "text/plain": [
       "'My name is:komal'"
      ]
     },
     "execution_count": 14,
     "metadata": {},
     "output_type": "execute_result"
    }
   ],
   "source": [
    "x"
   ]
  },
  {
   "cell_type": "code",
   "execution_count": 15,
   "id": "f1d94a08-c453-4cf6-b637-4107093d6ea1",
   "metadata": {},
   "outputs": [
    {
     "ename": "SyntaxError",
     "evalue": "cannot assign to expression here. Maybe you meant '==' instead of '='? (3297540814.py, line 2)",
     "output_type": "error",
     "traceback": [
      "\u001b[1;36m  Cell \u001b[1;32mIn[15], line 2\u001b[1;36m\u001b[0m\n\u001b[1;33m    last-name=input('Enter uore Last Name')\u001b[0m\n\u001b[1;37m    ^\u001b[0m\n\u001b[1;31mSyntaxError\u001b[0m\u001b[1;31m:\u001b[0m cannot assign to expression here. Maybe you meant '==' instead of '='?\n"
     ]
    }
   ],
   "source": [
    "first_name=input('Enter your First Name')\n",
    "last-name=input('Enter uore Last Name')"
   ]
  },
  {
   "cell_type": "code",
   "execution_count": null,
   "id": "13b769f9-3bbc-4bed-9222-fc791944031a",
   "metadata": {},
   "outputs": [],
   "source": []
  },
  {
   "cell_type": "code",
   "execution_count": 16,
   "id": "440bb64c-1872-45f5-bfb6-33c5ebb666f9",
   "metadata": {},
   "outputs": [
    {
     "name": "stdin",
     "output_type": "stream",
     "text": [
      "Enter your First Name komal\n",
      "Enter uore Last Name Nistane\n"
     ]
    }
   ],
   "source": [
    "first_name=input('Enter your First Name')\n",
    "last_name=input('Enter uore Last Name')"
   ]
  },
  {
   "cell_type": "code",
   "execution_count": 19,
   "id": "3475519a-d20a-43d7-85f6-95c2baa55b96",
   "metadata": {},
   "outputs": [],
   "source": [
    "fullname=first_name +' '+ last_name\n"
   ]
  },
  {
   "cell_type": "code",
   "execution_count": 20,
   "id": "cc95bf6e-2aeb-4887-8a00-3c91db808ea6",
   "metadata": {},
   "outputs": [
    {
     "data": {
      "text/plain": [
       "'komal Nistane'"
      ]
     },
     "execution_count": 20,
     "metadata": {},
     "output_type": "execute_result"
    }
   ],
   "source": [
    "fullname\n"
   ]
  },
  {
   "cell_type": "code",
   "execution_count": 21,
   "id": "50ebf48d-49e2-4e96-83c6-0ee594ca2d61",
   "metadata": {},
   "outputs": [
    {
     "name": "stdin",
     "output_type": "stream",
     "text": [
      "Enter your age 29\n"
     ]
    }
   ],
   "source": [
    "age= int(input('Enter your age'))"
   ]
  },
  {
   "cell_type": "code",
   "execution_count": 22,
   "id": "2ed236b3-16a7-4af8-b343-7ed140717408",
   "metadata": {},
   "outputs": [
    {
     "data": {
      "text/plain": [
       "29"
      ]
     },
     "execution_count": 22,
     "metadata": {},
     "output_type": "execute_result"
    }
   ],
   "source": [
    "age"
   ]
  },
  {
   "cell_type": "code",
   "execution_count": 24,
   "id": "73e10c01-b4d6-48a0-b83b-e12c8cdc29d9",
   "metadata": {},
   "outputs": [
    {
     "name": "stdout",
     "output_type": "stream",
     "text": [
      "your age is: 29\n"
     ]
    }
   ],
   "source": [
    "print('your age is:',age)"
   ]
  },
  {
   "cell_type": "code",
   "execution_count": 25,
   "id": "5717dfc3-15d5-4729-8d12-e2361be2970f",
   "metadata": {},
   "outputs": [
    {
     "name": "stdin",
     "output_type": "stream",
     "text": [
      "Enetr your name komal\n",
      "Enter your age 29\n",
      "Enter your height 5.2\n"
     ]
    }
   ],
   "source": [
    "name=input('Enetr your name')\n",
    "age= int(input('Enter your age'))\n",
    "height=float(input('Enter your height'))"
   ]
  },
  {
   "cell_type": "code",
   "execution_count": 26,
   "id": "486510f2-74dc-4141-b1d0-1b218be644dc",
   "metadata": {},
   "outputs": [
    {
     "name": "stdout",
     "output_type": "stream",
     "text": [
      "Your Good Name is: komal Age is 29 and height is 5.2\n"
     ]
    }
   ],
   "source": [
    "print('Your Good Name is:',name,'Age is',age,'and height is',height)"
   ]
  },
  {
   "cell_type": "code",
   "execution_count": null,
   "id": "de40e928-324c-42cc-970b-d7b9b58f487b",
   "metadata": {},
   "outputs": [],
   "source": []
  }
 ],
 "metadata": {
  "kernelspec": {
   "display_name": "Python 3 (ipykernel)",
   "language": "python",
   "name": "python3"
  },
  "language_info": {
   "codemirror_mode": {
    "name": "ipython",
    "version": 3
   },
   "file_extension": ".py",
   "mimetype": "text/x-python",
   "name": "python",
   "nbconvert_exporter": "python",
   "pygments_lexer": "ipython3",
   "version": "3.12.7"
  }
 },
 "nbformat": 4,
 "nbformat_minor": 5
}
