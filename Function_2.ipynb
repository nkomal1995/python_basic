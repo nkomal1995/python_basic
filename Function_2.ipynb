{
 "cells": [
  {
   "cell_type": "code",
   "execution_count": 1,
   "id": "ceb51c8a-c298-4806-adab-0bbc84853ebe",
   "metadata": {},
   "outputs": [],
   "source": [
    "def even_odd(e):\n",
    "    if(e % 2 == 0):\n",
    "        return 'even no'\n",
    "    else:\n",
    "        return 'odd no'"
   ]
  },
  {
   "cell_type": "code",
   "execution_count": 2,
   "id": "104db5a2-ee57-4d28-86f4-b8b93b9f7d97",
   "metadata": {},
   "outputs": [
    {
     "data": {
      "text/plain": [
       "'even no'"
      ]
     },
     "execution_count": 2,
     "metadata": {},
     "output_type": "execute_result"
    }
   ],
   "source": [
    "even_odd(10)"
   ]
  },
  {
   "cell_type": "code",
   "execution_count": 3,
   "id": "bad3cc37-dca0-4782-9714-719f67c81d54",
   "metadata": {},
   "outputs": [
    {
     "data": {
      "text/plain": [
       "'odd no'"
      ]
     },
     "execution_count": 3,
     "metadata": {},
     "output_type": "execute_result"
    }
   ],
   "source": [
    "even_odd(9)"
   ]
  },
  {
   "cell_type": "code",
   "execution_count": 6,
   "id": "9073bcf4-0dda-44ad-816b-9f168af05a15",
   "metadata": {},
   "outputs": [],
   "source": [
    "def multiarg1(a,b,c):\n",
    "    return a + b + c"
   ]
  },
  {
   "cell_type": "code",
   "execution_count": 7,
   "id": "a62feda2-065b-4a57-9645-66aecbcb0e4b",
   "metadata": {},
   "outputs": [
    {
     "data": {
      "text/plain": [
       "60"
      ]
     },
     "execution_count": 7,
     "metadata": {},
     "output_type": "execute_result"
    }
   ],
   "source": [
    "multiarg1(10,20,30)"
   ]
  },
  {
   "cell_type": "code",
   "execution_count": 8,
   "id": "d47177bb-a21d-492b-a083-0ed856b472a9",
   "metadata": {},
   "outputs": [],
   "source": [
    "def multiarg2(a,*args):\n",
    "    return a,args"
   ]
  },
  {
   "cell_type": "code",
   "execution_count": 10,
   "id": "e1a1b968-becd-4e71-9e2f-d968fad3186c",
   "metadata": {},
   "outputs": [
    {
     "data": {
      "text/plain": [
       "(1, (2, 'hello', False))"
      ]
     },
     "execution_count": 10,
     "metadata": {},
     "output_type": "execute_result"
    }
   ],
   "source": [
    "multiarg2(1,2,'hello',False)"
   ]
  },
  {
   "cell_type": "code",
   "execution_count": 16,
   "id": "aa5f2792-4cd9-42d7-9702-d73c0e51379c",
   "metadata": {},
   "outputs": [],
   "source": [
    "def multiagr3(*args,**kargs):\n",
    "    return  args, kargs"
   ]
  },
  {
   "cell_type": "code",
   "execution_count": 17,
   "id": "7107f143-8d06-45ef-b947-116510f5d59b",
   "metadata": {},
   "outputs": [
    {
     "data": {
      "text/plain": [
       "((1, 2, 3, 4, 5), {'a': 1, 'b': 2})"
      ]
     },
     "execution_count": 17,
     "metadata": {},
     "output_type": "execute_result"
    }
   ],
   "source": [
    "multiagr3(1,2,3,4,5,a=1,b=2)"
   ]
  },
  {
   "cell_type": "code",
   "execution_count": 18,
   "id": "ad0150ac-5964-41a0-ae61-9d7fa7ca2f3f",
   "metadata": {},
   "outputs": [],
   "source": [
    "# local variable"
   ]
  },
  {
   "cell_type": "code",
   "execution_count": 19,
   "id": "f010706a-67f5-4ac1-9f87-9c433c02b2bc",
   "metadata": {},
   "outputs": [],
   "source": [
    "def loc():\n",
    "    l = 10\n",
    "    return l"
   ]
  },
  {
   "cell_type": "code",
   "execution_count": 20,
   "id": "b533e22a-e18e-4b04-9ec0-d6512e48dc99",
   "metadata": {},
   "outputs": [
    {
     "data": {
      "text/plain": [
       "10"
      ]
     },
     "execution_count": 20,
     "metadata": {},
     "output_type": "execute_result"
    }
   ],
   "source": [
    "loc()"
   ]
  },
  {
   "cell_type": "code",
   "execution_count": 21,
   "id": "b3973326-08d6-47fe-a782-1b68aacd5201",
   "metadata": {},
   "outputs": [],
   "source": [
    "#global variable"
   ]
  },
  {
   "cell_type": "code",
   "execution_count": 22,
   "id": "1c72f65a-956d-42ea-ae65-4d933ae06e2b",
   "metadata": {},
   "outputs": [],
   "source": [
    "x=10"
   ]
  },
  {
   "cell_type": "code",
   "execution_count": 23,
   "id": "bfcbc759-4d92-47c5-a1e2-1a0bbcebd14c",
   "metadata": {},
   "outputs": [
    {
     "data": {
      "text/plain": [
       "10"
      ]
     },
     "execution_count": 23,
     "metadata": {},
     "output_type": "execute_result"
    }
   ],
   "source": [
    "x"
   ]
  },
  {
   "cell_type": "code",
   "execution_count": null,
   "id": "bdb817b5-e51a-45a6-a4ef-7bba332e5577",
   "metadata": {},
   "outputs": [],
   "source": []
  }
 ],
 "metadata": {
  "kernelspec": {
   "display_name": "Python 3 (ipykernel)",
   "language": "python",
   "name": "python3"
  },
  "language_info": {
   "codemirror_mode": {
    "name": "ipython",
    "version": 3
   },
   "file_extension": ".py",
   "mimetype": "text/x-python",
   "name": "python",
   "nbconvert_exporter": "python",
   "pygments_lexer": "ipython3",
   "version": "3.12.7"
  }
 },
 "nbformat": 4,
 "nbformat_minor": 5
}
