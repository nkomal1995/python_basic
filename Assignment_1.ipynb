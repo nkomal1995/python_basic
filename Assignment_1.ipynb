{
 "cells": [
  {
   "cell_type": "raw",
   "id": "b8e7a0fc-78ba-4739-b007-2199ffe79691",
   "metadata": {},
   "source": [
    "1.How would you convert one data type to another in Python? For example, an integer to a \n",
    "string.\n"
   ]
  },
  {
   "cell_type": "code",
   "execution_count": 2,
   "id": "d5fb3a47-f53d-4a05-9f92-6655e6bbb3c9",
   "metadata": {},
   "outputs": [],
   "source": [
    "a=5"
   ]
  },
  {
   "cell_type": "code",
   "execution_count": 3,
   "id": "5cdd805c-e764-44d0-b643-2a9fd6def2d1",
   "metadata": {},
   "outputs": [
    {
     "data": {
      "text/plain": [
       "'5'"
      ]
     },
     "execution_count": 3,
     "metadata": {},
     "output_type": "execute_result"
    }
   ],
   "source": [
    "str(a)"
   ]
  },
  {
   "cell_type": "markdown",
   "id": "ef4e0f37-0455-459d-8d74-1a7decf76296",
   "metadata": {},
   "source": [
    "2.  What is the difference between == and = in Python?"
   ]
  },
  {
   "cell_type": "raw",
   "id": "2ce33487-43d1-4551-af36-6060d14899e5",
   "metadata": {},
   "source": [
    "using == operator  we can comparing two values and return true if the value is match otherwise false , using = we can assigning value to the variable"
   ]
  },
  {
   "cell_type": "markdown",
   "id": "44781cee-ae26-46a3-ba17-29ae8312f092",
   "metadata": {},
   "source": [
    "3. How does the modulus operator (%) work in Python?"
   ]
  },
  {
   "cell_type": "raw",
   "id": "cc379097-e0b4-4d8e-9735-111373c4d9f1",
   "metadata": {},
   "source": [
    "% oeprator return the remainder value"
   ]
  },
  {
   "cell_type": "markdown",
   "id": "ca4ab113-8332-4d31-bc52-51733a4ae481",
   "metadata": {},
   "source": [
    "4. What is type casting, and why is it important in Python?"
   ]
  },
  {
   "cell_type": "code",
   "execution_count": null,
   "id": "9f780ef2-88a6-4d46-8f63-999efa09ea41",
   "metadata": {},
   "outputs": [],
   "source": [
    "Type casting means coverting value of one datatype to another.Type casting is imporatant when we want to change value of immutable data."
   ]
  },
  {
   "cell_type": "markdown",
   "id": "592d8a8f-ea44-4191-8a45-026ae040036b",
   "metadata": {},
   "source": [
    "5. What will be the output of 3 * \"Hello\" in Python? Explain why."
   ]
  },
  {
   "cell_type": "code",
   "execution_count": null,
   "id": "4970c21a-76b8-4280-905e-18f86f988a6c",
   "metadata": {},
   "outputs": [],
   "source": [
    "it will return 3 times hello and beacuse its not concating string with hello"
   ]
  }
 ],
 "metadata": {
  "kernelspec": {
   "display_name": "Python 3 (ipykernel)",
   "language": "python",
   "name": "python3"
  },
  "language_info": {
   "codemirror_mode": {
    "name": "ipython",
    "version": 3
   },
   "file_extension": ".py",
   "mimetype": "text/x-python",
   "name": "python",
   "nbconvert_exporter": "python",
   "pygments_lexer": "ipython3",
   "version": "3.12.7"
  }
 },
 "nbformat": 4,
 "nbformat_minor": 5
}
