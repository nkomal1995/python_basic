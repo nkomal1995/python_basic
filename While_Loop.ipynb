{
 "cells": [
  {
   "cell_type": "code",
   "execution_count": 20,
   "id": "de7f820a-4e1e-4a13-9495-219b2d450f9f",
   "metadata": {},
   "outputs": [],
   "source": [
    "num = 20"
   ]
  },
  {
   "cell_type": "code",
   "execution_count": 21,
   "id": "bd6eb49b-09ed-4dfa-aa38-879480495300",
   "metadata": {},
   "outputs": [
    {
     "name": "stdout",
     "output_type": "stream",
     "text": [
      "20\n",
      "21\n",
      "22\n",
      "23\n",
      "24\n"
     ]
    }
   ],
   "source": [
    "while(num < 25):\n",
    "    print(num)\n",
    "    num = num + 1"
   ]
  },
  {
   "cell_type": "code",
   "execution_count": 31,
   "id": "06ee1a6c-db81-4769-965d-7b3f0a5acaf6",
   "metadata": {},
   "outputs": [],
   "source": [
    " i = 10"
   ]
  },
  {
   "cell_type": "code",
   "execution_count": 32,
   "id": "a193e53f-3a0a-4ab6-93ee-3066b02b6eb9",
   "metadata": {},
   "outputs": [
    {
     "name": "stdout",
     "output_type": "stream",
     "text": [
      "10\n",
      "9\n",
      "8\n",
      "7\n",
      "6\n"
     ]
    }
   ],
   "source": [
    "while(i >5):\n",
    "    print(i)\n",
    "    i = i - 1"
   ]
  },
  {
   "cell_type": "code",
   "execution_count": 43,
   "id": "25bfe422-b121-4566-9a3c-15497b9c189b",
   "metadata": {},
   "outputs": [],
   "source": [
    "msg = 'welcome'"
   ]
  },
  {
   "cell_type": "code",
   "execution_count": 44,
   "id": "92693018-5636-4ded-ad1f-dc9825efac9a",
   "metadata": {},
   "outputs": [
    {
     "name": "stdout",
     "output_type": "stream",
     "text": [
      "welcome\n"
     ]
    },
    {
     "name": "stdin",
     "output_type": "stream",
     "text": [
      "enter the exit for stop hello\n"
     ]
    },
    {
     "name": "stdout",
     "output_type": "stream",
     "text": [
      "hello\n"
     ]
    },
    {
     "name": "stdin",
     "output_type": "stream",
     "text": [
      "enter the exit for stop hi\n"
     ]
    },
    {
     "name": "stdout",
     "output_type": "stream",
     "text": [
      "hi\n"
     ]
    },
    {
     "name": "stdin",
     "output_type": "stream",
     "text": [
      "enter the exit for stop exit\n"
     ]
    }
   ],
   "source": [
    "while(msg != 'exit'):\n",
    "    print(msg)\n",
    "    msg = input('enter the exit for stop')"
   ]
  },
  {
   "cell_type": "code",
   "execution_count": 2,
   "id": "cfacbc72-2a66-4c0e-b525-dba6498a625e",
   "metadata": {},
   "outputs": [
    {
     "name": "stdout",
     "output_type": "stream",
     "text": [
      "i is not equal to 0\n"
     ]
    }
   ],
   "source": [
    "i= 1\n",
    "while(i!=0):\n",
    "    print(\"i is not equal to 0\")\n",
    "    i=0"
   ]
  },
  {
   "cell_type": "code",
   "execution_count": null,
   "id": "37987734-a1e1-4dd0-adbd-0985df834bf0",
   "metadata": {},
   "outputs": [],
   "source": []
  },
  {
   "cell_type": "code",
   "execution_count": null,
   "id": "e5423c92-3954-4b8f-a9ac-66569700959d",
   "metadata": {},
   "outputs": [],
   "source": []
  }
 ],
 "metadata": {
  "kernelspec": {
   "display_name": "Python 3 (ipykernel)",
   "language": "python",
   "name": "python3"
  },
  "language_info": {
   "codemirror_mode": {
    "name": "ipython",
    "version": 3
   },
   "file_extension": ".py",
   "mimetype": "text/x-python",
   "name": "python",
   "nbconvert_exporter": "python",
   "pygments_lexer": "ipython3",
   "version": "3.12.7"
  }
 },
 "nbformat": 4,
 "nbformat_minor": 5
}
