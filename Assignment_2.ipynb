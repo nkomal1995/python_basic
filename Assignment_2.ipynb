{
 "cells": [
  {
   "cell_type": "markdown",
   "id": "3b98b1e7-5a42-4921-86db-1bd3aea1f69a",
   "metadata": {},
   "source": [
    "1. Variable Manipulation:\n",
    "o Define variables to store a student's name, age, GPA, and list of subjects.\n",
    "o Convert age from years to months and display the result.\n",
    "o Concatenate and print a sentence using all the defined variables."
   ]
  },
  {
   "cell_type": "code",
   "execution_count": 1,
   "id": "ea977359-a3ca-4ef0-a1fb-82bac3b28445",
   "metadata": {},
   "outputs": [],
   "source": [
    "stud_names=['komal','piu','nishu']"
   ]
  },
  {
   "cell_type": "code",
   "execution_count": 2,
   "id": "6a2377d2-31b2-4129-be27-64e1c89972cd",
   "metadata": {},
   "outputs": [],
   "source": [
    "age=29"
   ]
  },
  {
   "cell_type": "code",
   "execution_count": 3,
   "id": "ff7c78c8-e54c-4953-9aac-f03d7a058cc2",
   "metadata": {},
   "outputs": [],
   "source": [
    "cgpa=7.8"
   ]
  },
  {
   "cell_type": "code",
   "execution_count": 4,
   "id": "db41e538-ac2f-4f55-a84f-3ee109ef2807",
   "metadata": {},
   "outputs": [],
   "source": [
    "list_sub=['marathi','english','hindi']"
   ]
  },
  {
   "cell_type": "code",
   "execution_count": 5,
   "id": "e2b38bce-7341-4058-8c7b-a0a5abe7af86",
   "metadata": {},
   "outputs": [],
   "source": [
    "month=age * 12"
   ]
  },
  {
   "cell_type": "code",
   "execution_count": 6,
   "id": "312beeac-19fd-4d2f-b125-e3af87cc84cb",
   "metadata": {},
   "outputs": [
    {
     "data": {
      "text/plain": [
       "348"
      ]
     },
     "execution_count": 6,
     "metadata": {},
     "output_type": "execute_result"
    }
   ],
   "source": [
    "month"
   ]
  },
  {
   "cell_type": "code",
   "execution_count": 7,
   "id": "171af49e-e436-489f-8b89-f9d931cd29d7",
   "metadata": {},
   "outputs": [
    {
     "name": "stdout",
     "output_type": "stream",
     "text": [
      "['komal', 'piu', 'nishu'] 29 7.8 ['marathi', 'english', 'hindi'] 348\n"
     ]
    }
   ],
   "source": [
    "print(stud_names,age,cgpa,list_sub,month)"
   ]
  },
  {
   "cell_type": "markdown",
   "id": "164b0e4e-ce51-469a-abbc-f7f526a6e267",
   "metadata": {},
   "source": [
    "Assignment 2: Data Structures - List, Tuple, Set, and Dictionary"
   ]
  },
  {
   "cell_type": "raw",
   "id": "4be105bf-3d31-415b-86b6-504ca47e399e",
   "metadata": {},
   "source": [
    "1. Working with Lists:\n",
    "o Create a list of integers and:\n",
    " Append a new number.\n",
    " Insert a number at a specific index.\n",
    " Remove duplicates and print the final list"
   ]
  },
  {
   "cell_type": "code",
   "execution_count": 9,
   "id": "2afc00bb-3a01-4c15-a31b-13475d210724",
   "metadata": {},
   "outputs": [],
   "source": [
    "list_numbers=[1,2,3,4,5,6,7,8,9]"
   ]
  },
  {
   "cell_type": "code",
   "execution_count": 10,
   "id": "4aedda82-c548-43fb-87c7-f49c349dfb03",
   "metadata": {},
   "outputs": [
    {
     "data": {
      "text/plain": [
       "[1, 2, 3, 4, 5, 6, 7, 8, 9]"
      ]
     },
     "execution_count": 10,
     "metadata": {},
     "output_type": "execute_result"
    }
   ],
   "source": [
    "list_numbers"
   ]
  },
  {
   "cell_type": "code",
   "execution_count": 11,
   "id": "b7497aaf-e2d4-46b2-a98d-96bc6ab84076",
   "metadata": {},
   "outputs": [],
   "source": [
    "list_numbers.append(10)"
   ]
  },
  {
   "cell_type": "code",
   "execution_count": 12,
   "id": "b869c909-bd80-4c49-b1a4-6e66922266b8",
   "metadata": {},
   "outputs": [
    {
     "data": {
      "text/plain": [
       "[1, 2, 3, 4, 5, 6, 7, 8, 9, 10]"
      ]
     },
     "execution_count": 12,
     "metadata": {},
     "output_type": "execute_result"
    }
   ],
   "source": [
    "list_numbers"
   ]
  },
  {
   "cell_type": "code",
   "execution_count": 15,
   "id": "06bfeaf7-a300-42d8-aa9c-999bd765c8c3",
   "metadata": {},
   "outputs": [],
   "source": [
    "list_numbers.insert(4,11)"
   ]
  },
  {
   "cell_type": "code",
   "execution_count": 16,
   "id": "c2507dda-abf9-4274-a736-ff83da4a64f1",
   "metadata": {},
   "outputs": [
    {
     "data": {
      "text/plain": [
       "[1, 2, 3, 4, 11, 5, 6, 7, 8, 9, 10]"
      ]
     },
     "execution_count": 16,
     "metadata": {},
     "output_type": "execute_result"
    }
   ],
   "source": [
    "list_numbers"
   ]
  },
  {
   "cell_type": "code",
   "execution_count": 18,
   "id": "8cd0ac08-3d43-4809-9f6b-3bcfe8ee4f27",
   "metadata": {},
   "outputs": [],
   "source": [
    "l2=set(list_numbers)"
   ]
  },
  {
   "cell_type": "code",
   "execution_count": 19,
   "id": "3c956a1b-2b93-418a-a321-3a9ae0bab8c0",
   "metadata": {},
   "outputs": [
    {
     "data": {
      "text/plain": [
       "{1, 2, 3, 4, 5, 6, 7, 8, 9, 10, 11}"
      ]
     },
     "execution_count": 19,
     "metadata": {},
     "output_type": "execute_result"
    }
   ],
   "source": [
    "l2"
   ]
  },
  {
   "cell_type": "raw",
   "id": "ae91fe06-d972-432f-a44d-a3e9d68afb03",
   "metadata": {},
   "source": [
    "2. Tuple Manipulation:\n",
    "o Define a tuple of 5 colors.\n",
    "o Try to add a new color to the tuple (observe and explain why it fails).\n",
    "o Convert the tuple to a list, add the color, and convert it back to a tuple."
   ]
  },
  {
   "cell_type": "code",
   "execution_count": 21,
   "id": "4926e731-e53b-4998-a5b1-d44cee62d033",
   "metadata": {},
   "outputs": [],
   "source": [
    "clrs=('yello','purple','green','white','pink')"
   ]
  },
  {
   "cell_type": "code",
   "execution_count": 22,
   "id": "2a91a753-4b64-4b99-8469-8632c916a4a1",
   "metadata": {},
   "outputs": [
    {
     "ename": "TypeError",
     "evalue": "'tuple' object does not support item assignment",
     "output_type": "error",
     "traceback": [
      "\u001b[1;31m---------------------------------------------------------------------------\u001b[0m",
      "\u001b[1;31mTypeError\u001b[0m                                 Traceback (most recent call last)",
      "Cell \u001b[1;32mIn[22], line 1\u001b[0m\n\u001b[1;32m----> 1\u001b[0m clrs[\u001b[38;5;241m1\u001b[39m]\u001b[38;5;241m=\u001b[39m\u001b[38;5;124m'\u001b[39m\u001b[38;5;124mred\u001b[39m\u001b[38;5;124m'\u001b[39m\n",
      "\u001b[1;31mTypeError\u001b[0m: 'tuple' object does not support item assignment"
     ]
    }
   ],
   "source": [
    "clrs[1]='red'"
   ]
  },
  {
   "cell_type": "code",
   "execution_count": 23,
   "id": "753282c8-6f54-4e1d-9fb3-7fe94d76a983",
   "metadata": {},
   "outputs": [],
   "source": [
    "list_tuple=list(clrs)"
   ]
  },
  {
   "cell_type": "code",
   "execution_count": 24,
   "id": "61baebbc-61ca-4d66-b5c8-493190375a81",
   "metadata": {},
   "outputs": [
    {
     "data": {
      "text/plain": [
       "['yello', 'purple', 'green', 'white', 'pink']"
      ]
     },
     "execution_count": 24,
     "metadata": {},
     "output_type": "execute_result"
    }
   ],
   "source": [
    "list_tuple"
   ]
  },
  {
   "cell_type": "code",
   "execution_count": 25,
   "id": "10824e4c-26bb-4cce-b510-9d7abda4c2e3",
   "metadata": {},
   "outputs": [],
   "source": [
    "list_tuple.append('red')"
   ]
  },
  {
   "cell_type": "code",
   "execution_count": 26,
   "id": "d94a7636-d683-437e-963c-9772572ff710",
   "metadata": {},
   "outputs": [
    {
     "data": {
      "text/plain": [
       "['yello', 'purple', 'green', 'white', 'pink', 'red']"
      ]
     },
     "execution_count": 26,
     "metadata": {},
     "output_type": "execute_result"
    }
   ],
   "source": [
    "list_tuple"
   ]
  },
  {
   "cell_type": "code",
   "execution_count": 27,
   "id": "848f3acc-a20d-406d-9709-c7673d4af07c",
   "metadata": {},
   "outputs": [],
   "source": [
    "t1=tuple(list_tuple)"
   ]
  },
  {
   "cell_type": "code",
   "execution_count": 28,
   "id": "151dde73-7975-4fd1-9697-f2e15942b20e",
   "metadata": {},
   "outputs": [
    {
     "data": {
      "text/plain": [
       "('yello', 'purple', 'green', 'white', 'pink', 'red')"
      ]
     },
     "execution_count": 28,
     "metadata": {},
     "output_type": "execute_result"
    }
   ],
   "source": [
    "t1"
   ]
  },
  {
   "cell_type": "code",
   "execution_count": 29,
   "id": "006bd068-244f-484b-9cb7-8c6983fc486e",
   "metadata": {},
   "outputs": [
    {
     "data": {
      "text/plain": [
       "tuple"
      ]
     },
     "execution_count": 29,
     "metadata": {},
     "output_type": "execute_result"
    }
   ],
   "source": [
    "type(t1)"
   ]
  },
  {
   "cell_type": "raw",
   "id": "75d10294-25c3-4538-8d66-b4872c46da15",
   "metadata": {},
   "source": [
    "3. Set Operations:\n",
    "o Create two sets of random numbers.\n",
    "o Find and print their union, intersection, and difference.\n",
    "o Remove one element from the first set and add a new element."
   ]
  },
  {
   "cell_type": "code",
   "execution_count": 30,
   "id": "fd957a23-b6a9-4562-9622-100143d6949d",
   "metadata": {},
   "outputs": [],
   "source": [
    "set_1={1,2,3,4}"
   ]
  },
  {
   "cell_type": "code",
   "execution_count": 31,
   "id": "31cbb55f-ee3c-48f9-845e-c3d46f28e329",
   "metadata": {},
   "outputs": [],
   "source": [
    "set_2={4,5,6,7}"
   ]
  },
  {
   "cell_type": "code",
   "execution_count": 32,
   "id": "580771ce-7298-43cd-a426-95ae4bf55fe1",
   "metadata": {},
   "outputs": [
    {
     "data": {
      "text/plain": [
       "{1, 2, 3, 4, 5, 6, 7}"
      ]
     },
     "execution_count": 32,
     "metadata": {},
     "output_type": "execute_result"
    }
   ],
   "source": [
    "set_1.union(set_2)"
   ]
  },
  {
   "cell_type": "code",
   "execution_count": 33,
   "id": "192cef34-1d83-4fde-b1d8-080504647724",
   "metadata": {},
   "outputs": [
    {
     "data": {
      "text/plain": [
       "{4}"
      ]
     },
     "execution_count": 33,
     "metadata": {},
     "output_type": "execute_result"
    }
   ],
   "source": [
    "set_1.intersection(set_2)"
   ]
  },
  {
   "cell_type": "code",
   "execution_count": 35,
   "id": "422f861e-0e88-4f4a-89e4-fd4513824339",
   "metadata": {},
   "outputs": [
    {
     "data": {
      "text/plain": [
       "{1, 2, 3}"
      ]
     },
     "execution_count": 35,
     "metadata": {},
     "output_type": "execute_result"
    }
   ],
   "source": [
    "set_1.difference(set_2)"
   ]
  },
  {
   "cell_type": "code",
   "execution_count": 36,
   "id": "3a1ef4c0-cdd4-4e17-9221-b2c658dd6af9",
   "metadata": {},
   "outputs": [],
   "source": [
    "set_1.remove(1)"
   ]
  },
  {
   "cell_type": "code",
   "execution_count": 37,
   "id": "a4810bd9-e586-46d0-95f0-f27138be8ef8",
   "metadata": {},
   "outputs": [
    {
     "data": {
      "text/plain": [
       "{2, 3, 4}"
      ]
     },
     "execution_count": 37,
     "metadata": {},
     "output_type": "execute_result"
    }
   ],
   "source": [
    "set_1"
   ]
  },
  {
   "cell_type": "code",
   "execution_count": 38,
   "id": "12ef678f-532b-451c-b27d-6dea0bdb1a51",
   "metadata": {},
   "outputs": [],
   "source": [
    "set_1.add(10)"
   ]
  },
  {
   "cell_type": "code",
   "execution_count": 39,
   "id": "f1ed9f53-9b1c-414a-a25d-5c07827f0f65",
   "metadata": {},
   "outputs": [
    {
     "data": {
      "text/plain": [
       "{2, 3, 4, 10}"
      ]
     },
     "execution_count": 39,
     "metadata": {},
     "output_type": "execute_result"
    }
   ],
   "source": [
    "set_1"
   ]
  },
  {
   "cell_type": "raw",
   "id": "10e7a717-580f-4470-a287-a30810063acd",
   "metadata": {},
   "source": [
    "4. Dictionary Practice:\n",
    "o Define a dictionary for a library system with book titles as keys and available \n",
    "copies as values.\n",
    "o Update the count of a specific book after it is borrowed.\n",
    "o Add a new book to the dictionary and print the updated dictionary."
   ]
  },
  {
   "cell_type": "code",
   "execution_count": 40,
   "id": "acea995c-d859-43be-ae4a-ed127585de5b",
   "metadata": {},
   "outputs": [],
   "source": [
    "dic={'Marathi':2,'english':3,'hindi':2}"
   ]
  },
  {
   "cell_type": "code",
   "execution_count": 41,
   "id": "a363c630-c807-466a-bd09-c55210f2655a",
   "metadata": {},
   "outputs": [
    {
     "data": {
      "text/plain": [
       "{'Marathi': 2, 'english': 3, 'hindi': 2}"
      ]
     },
     "execution_count": 41,
     "metadata": {},
     "output_type": "execute_result"
    }
   ],
   "source": [
    "dic"
   ]
  },
  {
   "cell_type": "code",
   "execution_count": 42,
   "id": "960c6184-a134-4976-9aa0-0dca41e8b876",
   "metadata": {},
   "outputs": [],
   "source": [
    "dic['english']=2"
   ]
  },
  {
   "cell_type": "code",
   "execution_count": 43,
   "id": "676969ae-11f2-4e31-a206-e6610fbb289c",
   "metadata": {},
   "outputs": [
    {
     "data": {
      "text/plain": [
       "{'Marathi': 2, 'english': 2, 'hindi': 2}"
      ]
     },
     "execution_count": 43,
     "metadata": {},
     "output_type": "execute_result"
    }
   ],
   "source": [
    "dic"
   ]
  },
  {
   "cell_type": "code",
   "execution_count": 44,
   "id": "99c74b01-c09f-4743-9ee4-df3465c1b9bf",
   "metadata": {},
   "outputs": [],
   "source": [
    "dic['math']=4"
   ]
  },
  {
   "cell_type": "code",
   "execution_count": 45,
   "id": "442646a2-9e5b-4895-92b2-518cfd7911c7",
   "metadata": {},
   "outputs": [
    {
     "data": {
      "text/plain": [
       "{'Marathi': 2, 'english': 2, 'hindi': 2, 'math': 4}"
      ]
     },
     "execution_count": 45,
     "metadata": {},
     "output_type": "execute_result"
    }
   ],
   "source": [
    "dic"
   ]
  },
  {
   "cell_type": "code",
   "execution_count": null,
   "id": "88b05a96-e787-4deb-80a8-e5d121afbecb",
   "metadata": {},
   "outputs": [],
   "source": []
  }
 ],
 "metadata": {
  "kernelspec": {
   "display_name": "Python 3 (ipykernel)",
   "language": "python",
   "name": "python3"
  },
  "language_info": {
   "codemirror_mode": {
    "name": "ipython",
    "version": 3
   },
   "file_extension": ".py",
   "mimetype": "text/x-python",
   "name": "python",
   "nbconvert_exporter": "python",
   "pygments_lexer": "ipython3",
   "version": "3.12.7"
  }
 },
 "nbformat": 4,
 "nbformat_minor": 5
}
