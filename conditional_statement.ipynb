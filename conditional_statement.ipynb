{
 "cells": [
  {
   "cell_type": "code",
   "execution_count": 1,
   "id": "7e694f9f-7c98-4a18-886a-21f836745405",
   "metadata": {},
   "outputs": [],
   "source": [
    "percentage = 70"
   ]
  },
  {
   "cell_type": "code",
   "execution_count": 3,
   "id": "67c3dc8d-6d8b-4697-bdac-448bb25a0315",
   "metadata": {},
   "outputs": [
    {
     "name": "stdout",
     "output_type": "stream",
     "text": [
      "B\n"
     ]
    }
   ],
   "source": [
    "if percentage>=90:\n",
    "    print(\"A+\")\n",
    "elif percentage>=80: \n",
    "    print(\"A\")\n",
    "elif percentage>=70: \n",
    "    print(\"B\")\n",
    "elif percentage>=35: \n",
    "    print(\"C\")\n",
    "else:\n",
    "    print(\"Fail\")"
   ]
  },
  {
   "cell_type": "code",
   "execution_count": 4,
   "id": "af2c961a-d583-401f-a6f1-642296d4ac1b",
   "metadata": {},
   "outputs": [
    {
     "name": "stdout",
     "output_type": "stream",
     "text": [
      "A+\n"
     ]
    }
   ],
   "source": [
    "percentage=99\n",
    "if percentage>=90 and percentage<=100 :\n",
    "    print(\"A+\")\n",
    "elif percentage>=80 and percentage<90: \n",
    "    print(\"A\")\n",
    "elif percentage>=70 and percentage<80: \n",
    "    print(\"B\")\n",
    "elif percentage>=35 and percentage<70: \n",
    "    print(\"C\")\n",
    "else:\n",
    "    print(\"Fail\")"
   ]
  },
  {
   "cell_type": "code",
   "execution_count": 5,
   "id": "d8cdc644-b4b2-432f-8efa-a9e23218eae5",
   "metadata": {},
   "outputs": [
    {
     "name": "stdout",
     "output_type": "stream",
     "text": [
      "B\n"
     ]
    }
   ],
   "source": [
    "percentage=75\n",
    "if percentage>=90 and percentage<=100 :\n",
    "    print(\"A+\")\n",
    "elif percentage>=80 and percentage<90: \n",
    "    print(\"A\")\n",
    "elif percentage>=70 and percentage<80: \n",
    "    print(\"B\")\n",
    "elif percentage>=35 and percentage<70: \n",
    "    print(\"C\")\n",
    "else:\n",
    "    print(\"Fail\")"
   ]
  },
  {
   "cell_type": "code",
   "execution_count": 6,
   "id": "33f70627-db01-4db2-a4ec-67627fd1378b",
   "metadata": {},
   "outputs": [],
   "source": [
    "marks=35"
   ]
  },
  {
   "cell_type": "code",
   "execution_count": 7,
   "id": "cbf6a806-b92d-4ef7-a4eb-6b8a638c231d",
   "metadata": {},
   "outputs": [
    {
     "name": "stdout",
     "output_type": "stream",
     "text": [
      "Pass\n"
     ]
    }
   ],
   "source": [
    "if marks<35:\n",
    "    print(\"Fail\")\n",
    "else:\n",
    "    print(\"Pass\")"
   ]
  },
  {
   "cell_type": "code",
   "execution_count": 8,
   "id": "98c8ee7c-7ac4-467a-b753-ece60c86c376",
   "metadata": {},
   "outputs": [],
   "source": [
    "a=10\n",
    "b=20"
   ]
  },
  {
   "cell_type": "code",
   "execution_count": 9,
   "id": "b1995825-4a72-483d-b66d-c1faab36deab",
   "metadata": {},
   "outputs": [
    {
     "name": "stdout",
     "output_type": "stream",
     "text": [
      "b is greter than a\n"
     ]
    }
   ],
   "source": [
    "if a>=20:\n",
    "    print(\"a is greater than b\")\n",
    "else:\n",
    "    print(\"b is greter than a\")"
   ]
  },
  {
   "cell_type": "code",
   "execution_count": 10,
   "id": "940f13c3-27c8-4972-8465-bdb7bd8d8278",
   "metadata": {},
   "outputs": [],
   "source": [
    "a=20\n",
    "b=30\n",
    "c=40"
   ]
  },
  {
   "cell_type": "code",
   "execution_count": 12,
   "id": "0ac01f28-20c1-44ea-9499-129964da0f51",
   "metadata": {},
   "outputs": [
    {
     "name": "stdout",
     "output_type": "stream",
     "text": [
      "a is not greter than b and c\n"
     ]
    }
   ],
   "source": [
    "if a>b and a>c:\n",
    "    print(\"a is greter than b and c\")\n",
    "else:\n",
    "    print(\"a is not greter than b and c\")"
   ]
  },
  {
   "cell_type": "code",
   "execution_count": 16,
   "id": "448f4d44-89ff-46d8-8f1a-b571541268c2",
   "metadata": {},
   "outputs": [
    {
     "name": "stdout",
     "output_type": "stream",
     "text": [
      "a is greter than c or c is greter then b\n"
     ]
    }
   ],
   "source": [
    "if a>c or c>b:\n",
    "    print(\"a is greter than c or c is greter then b\")\n",
    "else:\n",
    "    print(\"a is not gereter than c or c is not greter than b \")"
   ]
  },
  {
   "cell_type": "code",
   "execution_count": null,
   "id": "f0241733-597e-42c9-895f-603c8d1fccc6",
   "metadata": {},
   "outputs": [],
   "source": []
  }
 ],
 "metadata": {
  "kernelspec": {
   "display_name": "Python 3 (ipykernel)",
   "language": "python",
   "name": "python3"
  },
  "language_info": {
   "codemirror_mode": {
    "name": "ipython",
    "version": 3
   },
   "file_extension": ".py",
   "mimetype": "text/x-python",
   "name": "python",
   "nbconvert_exporter": "python",
   "pygments_lexer": "ipython3",
   "version": "3.12.7"
  }
 },
 "nbformat": 4,
 "nbformat_minor": 5
}
