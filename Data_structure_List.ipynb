{
 "cells": [
  {
   "cell_type": "code",
   "execution_count": 1,
   "id": "86906cac-fd92-44e9-8b81-5a1faa141e8e",
   "metadata": {},
   "outputs": [],
   "source": [
    "numbers=[10,20,30,40,50,60,70,]\n"
   ]
  },
  {
   "cell_type": "code",
   "execution_count": 2,
   "id": "0d6ffdc7-1137-493c-95c4-a54d508d360c",
   "metadata": {},
   "outputs": [
    {
     "data": {
      "text/plain": [
       "list"
      ]
     },
     "execution_count": 2,
     "metadata": {},
     "output_type": "execute_result"
    }
   ],
   "source": [
    "type(numbers) #return which type of data is it"
   ]
  },
  {
   "cell_type": "code",
   "execution_count": 3,
   "id": "131ddd23-8046-4516-b9af-ae3fb0d8bba4",
   "metadata": {},
   "outputs": [
    {
     "data": {
      "text/plain": [
       "[10, 20, 30, 40, 50, 60, 70]"
      ]
     },
     "execution_count": 3,
     "metadata": {},
     "output_type": "execute_result"
    }
   ],
   "source": [
    "numbers\n"
   ]
  },
  {
   "cell_type": "code",
   "execution_count": 4,
   "id": "be8e740c-8c2b-40d6-9803-4b2e924e02ce",
   "metadata": {},
   "outputs": [
    {
     "data": {
      "text/plain": [
       "7"
      ]
     },
     "execution_count": 4,
     "metadata": {},
     "output_type": "execute_result"
    }
   ],
   "source": [
    "len(numbers) #count lenght of elements"
   ]
  },
  {
   "cell_type": "code",
   "execution_count": 5,
   "id": "1eda60c2-5260-4b99-b3c1-0c625bf5cf16",
   "metadata": {},
   "outputs": [
    {
     "data": {
      "text/plain": [
       "30"
      ]
     },
     "execution_count": 5,
     "metadata": {},
     "output_type": "execute_result"
    }
   ],
   "source": [
    "numbers[2] #return index value"
   ]
  },
  {
   "cell_type": "code",
   "execution_count": 6,
   "id": "0dad7834-3348-42c8-9e4c-54154319c656",
   "metadata": {},
   "outputs": [
    {
     "data": {
      "text/plain": [
       "[10, 20, 30]"
      ]
     },
     "execution_count": 6,
     "metadata": {},
     "output_type": "execute_result"
    }
   ],
   "source": [
    "numbers[0:3] #end index is not included"
   ]
  },
  {
   "cell_type": "code",
   "execution_count": 7,
   "id": "dbe942a1-d382-49f4-b201-3d127ab5b4b2",
   "metadata": {},
   "outputs": [
    {
     "data": {
      "text/plain": [
       "[10, 20, 30, 40, 50]"
      ]
     },
     "execution_count": 7,
     "metadata": {},
     "output_type": "execute_result"
    }
   ],
   "source": [
    "numbers[0:5]"
   ]
  },
  {
   "cell_type": "code",
   "execution_count": 8,
   "id": "8edee77a-45c0-4930-badd-a34a922f8909",
   "metadata": {},
   "outputs": [
    {
     "data": {
      "text/plain": [
       "[20, 30, 40, 50, 60, 70]"
      ]
     },
     "execution_count": 8,
     "metadata": {},
     "output_type": "execute_result"
    }
   ],
   "source": [
    "numbers[1:]"
   ]
  },
  {
   "cell_type": "code",
   "execution_count": 9,
   "id": "2b6f2a3f-39e8-455b-b1ee-277abdf44100",
   "metadata": {},
   "outputs": [
    {
     "data": {
      "text/plain": [
       "[10, 20, 30, 40, 50, 60, 70]"
      ]
     },
     "execution_count": 9,
     "metadata": {},
     "output_type": "execute_result"
    }
   ],
   "source": [
    "numbers"
   ]
  },
  {
   "cell_type": "code",
   "execution_count": 10,
   "id": "ece67673-450b-41c1-8f46-4aebba3b385b",
   "metadata": {},
   "outputs": [
    {
     "data": {
      "text/plain": [
       "[10, 20, 30, 40, 50, 60, 70]"
      ]
     },
     "execution_count": 10,
     "metadata": {},
     "output_type": "execute_result"
    }
   ],
   "source": [
    "numbers[:]"
   ]
  },
  {
   "cell_type": "code",
   "execution_count": 11,
   "id": "67cea528-f575-45c4-9214-f8325e3285ca",
   "metadata": {},
   "outputs": [
    {
     "data": {
      "text/plain": [
       "[10, 20, 30, 40, 50]"
      ]
     },
     "execution_count": 11,
     "metadata": {},
     "output_type": "execute_result"
    }
   ],
   "source": [
    "numbers[0:5:1] #jumpsize "
   ]
  },
  {
   "cell_type": "code",
   "execution_count": 12,
   "id": "8609aa99-323f-4fb8-83bf-a7250700de75",
   "metadata": {},
   "outputs": [
    {
     "data": {
      "text/plain": [
       "[20, 40, 60]"
      ]
     },
     "execution_count": 12,
     "metadata": {},
     "output_type": "execute_result"
    }
   ],
   "source": [
    "numbers[1:6:2]"
   ]
  },
  {
   "cell_type": "code",
   "execution_count": 13,
   "id": "1ecfb67a-ca00-4bcf-b4b9-05c9820ae73d",
   "metadata": {},
   "outputs": [
    {
     "data": {
      "text/plain": [
       "[10, 40, 70]"
      ]
     },
     "execution_count": 13,
     "metadata": {},
     "output_type": "execute_result"
    }
   ],
   "source": [
    "numbers[0:7:3]"
   ]
  },
  {
   "cell_type": "code",
   "execution_count": 14,
   "id": "d0f7ffc1-13db-4274-b648-e1b1dcebaaef",
   "metadata": {},
   "outputs": [
    {
     "data": {
      "text/plain": [
       "[10, 20, 30, 40, 50, 60, 70]"
      ]
     },
     "execution_count": 14,
     "metadata": {},
     "output_type": "execute_result"
    }
   ],
   "source": [
    "numbers"
   ]
  },
  {
   "cell_type": "code",
   "execution_count": 15,
   "id": "6575a9eb-fa40-4a0c-a49f-036085bb3952",
   "metadata": {},
   "outputs": [
    {
     "data": {
      "text/plain": [
       "[10, 20, 30, 40, 50, 60, 70]"
      ]
     },
     "execution_count": 15,
     "metadata": {},
     "output_type": "execute_result"
    }
   ],
   "source": [
    "numbers[::1]"
   ]
  },
  {
   "cell_type": "code",
   "execution_count": 16,
   "id": "a9e38884-fb57-42bf-82a7-b9135a291d67",
   "metadata": {},
   "outputs": [
    {
     "data": {
      "text/plain": [
       "[10, 30, 50, 70]"
      ]
     },
     "execution_count": 16,
     "metadata": {},
     "output_type": "execute_result"
    }
   ],
   "source": [
    "numbers[::2]"
   ]
  },
  {
   "cell_type": "code",
   "execution_count": 17,
   "id": "7c7191e3-6611-45e5-9b5f-ea1ab2392c7c",
   "metadata": {},
   "outputs": [
    {
     "data": {
      "text/plain": [
       "[10, 40, 70]"
      ]
     },
     "execution_count": 17,
     "metadata": {},
     "output_type": "execute_result"
    }
   ],
   "source": [
    "numbers[::3]"
   ]
  },
  {
   "cell_type": "code",
   "execution_count": 18,
   "id": "e51c4aaa-de4b-4686-91ad-7d0cf258f990",
   "metadata": {},
   "outputs": [
    {
     "data": {
      "text/plain": [
       "[70, 60, 50, 40, 30, 20, 10]"
      ]
     },
     "execution_count": 18,
     "metadata": {},
     "output_type": "execute_result"
    }
   ],
   "source": [
    "numbers[-1::-1]"
   ]
  },
  {
   "cell_type": "code",
   "execution_count": 19,
   "id": "0c7c8620-84eb-4026-9775-bf73b9ba59f7",
   "metadata": {},
   "outputs": [
    {
     "data": {
      "text/plain": [
       "[10, 20, 30, 40, 50, 60, 70]"
      ]
     },
     "execution_count": 19,
     "metadata": {},
     "output_type": "execute_result"
    }
   ],
   "source": [
    "numbers"
   ]
  },
  {
   "cell_type": "code",
   "execution_count": 20,
   "id": "b05f9062-76d3-4c65-a596-1e1986f0ac84",
   "metadata": {},
   "outputs": [
    {
     "data": {
      "text/plain": [
       "[70, 60, 50, 40, 30, 20, 10]"
      ]
     },
     "execution_count": 20,
     "metadata": {},
     "output_type": "execute_result"
    }
   ],
   "source": [
    "numbers[::-1]"
   ]
  },
  {
   "cell_type": "code",
   "execution_count": 21,
   "id": "d848836a-7cbe-4da1-8120-1d36f7de153b",
   "metadata": {},
   "outputs": [],
   "source": [
    "nestedList=[1,2,3,4,5,[1,2,3],6,7]"
   ]
  },
  {
   "cell_type": "code",
   "execution_count": 22,
   "id": "50dd9205-e532-404f-b047-c46946747aa7",
   "metadata": {},
   "outputs": [
    {
     "data": {
      "text/plain": [
       "[1, 2, 3, 4, 5, [1, 2, 3], 6, 7]"
      ]
     },
     "execution_count": 22,
     "metadata": {},
     "output_type": "execute_result"
    }
   ],
   "source": [
    "nestedList\n"
   ]
  },
  {
   "cell_type": "code",
   "execution_count": 23,
   "id": "833d5a82-e8a3-487a-bf72-e328c82b7bc0",
   "metadata": {},
   "outputs": [
    {
     "data": {
      "text/plain": [
       "[1, 2, 3]"
      ]
     },
     "execution_count": 23,
     "metadata": {},
     "output_type": "execute_result"
    }
   ],
   "source": [
    "nestedList[5]"
   ]
  },
  {
   "cell_type": "code",
   "execution_count": 24,
   "id": "a5316af9-c1f7-4075-9c03-74bc95a688dd",
   "metadata": {},
   "outputs": [
    {
     "data": {
      "text/plain": [
       "2"
      ]
     },
     "execution_count": 24,
     "metadata": {},
     "output_type": "execute_result"
    }
   ],
   "source": [
    "nestedList[5][1]"
   ]
  },
  {
   "cell_type": "code",
   "execution_count": 25,
   "id": "964b451d-9660-41ad-9287-3d8a07c34891",
   "metadata": {},
   "outputs": [
    {
     "data": {
      "text/plain": [
       "2"
      ]
     },
     "execution_count": 25,
     "metadata": {},
     "output_type": "execute_result"
    }
   ],
   "source": [
    "nestedList[1]"
   ]
  },
  {
   "cell_type": "code",
   "execution_count": 28,
   "id": "c7b0415b-d5e0-4a6d-8aa5-722913f8d6a2",
   "metadata": {},
   "outputs": [],
   "source": [
    "nestedList[0]=2"
   ]
  },
  {
   "cell_type": "code",
   "execution_count": 29,
   "id": "231fdfe1-6a56-4043-bfda-2ff3b2ac04a1",
   "metadata": {},
   "outputs": [
    {
     "data": {
      "text/plain": [
       "[2, 2, 3, 4, 5, [1, 2, 3], 6, 7]"
      ]
     },
     "execution_count": 29,
     "metadata": {},
     "output_type": "execute_result"
    }
   ],
   "source": [
    "nestedList"
   ]
  },
  {
   "cell_type": "code",
   "execution_count": null,
   "id": "967f578f-2fdf-41b2-b58c-d2ee86a1002c",
   "metadata": {},
   "outputs": [],
   "source": []
  }
 ],
 "metadata": {
  "kernelspec": {
   "display_name": "Python 3 (ipykernel)",
   "language": "python",
   "name": "python3"
  },
  "language_info": {
   "codemirror_mode": {
    "name": "ipython",
    "version": 3
   },
   "file_extension": ".py",
   "mimetype": "text/x-python",
   "name": "python",
   "nbconvert_exporter": "python",
   "pygments_lexer": "ipython3",
   "version": "3.12.7"
  }
 },
 "nbformat": 4,
 "nbformat_minor": 5
}
